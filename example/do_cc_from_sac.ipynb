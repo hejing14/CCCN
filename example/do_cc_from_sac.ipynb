{
 "cells": [
  {
   "cell_type": "code",
   "execution_count": 1,
   "metadata": {},
   "outputs": [],
   "source": [
    "from cccn.noise import CrossCorrelation\n",
    "from cccn.post_func import PostProcForNoise"
   ]
  },
  {
   "cell_type": "code",
   "execution_count": 2,
   "metadata": {},
   "outputs": [],
   "source": [
    "cc = CrossCorrelation()\n",
    "cc.clean()\n",
    "for path in ['dataSAC/2008.010', 'dataSAC/2008.011']:\n",
    "    cc.para.datapath=path\n",
    "    cc.para.suffix = 'sac'\n",
    "    cc.para.target_dt = 1\n",
    "    cc.para.nnode = 1\n",
    "    cc.read_sac()\n",
    "    cc.perwhiten()\n",
    "    cc.docc()"
   ]
  },
  {
   "cell_type": "code",
   "execution_count": 3,
   "metadata": {},
   "outputs": [
    {
     "ename": "KeyError",
     "evalue": "'elevation'",
     "output_type": "error",
     "traceback": [
      "\u001b[0;31m---------------------------------------------------------------------------\u001b[0m",
      "\u001b[0;31mKeyError\u001b[0m                                  Traceback (most recent call last)",
      "Cell \u001b[0;32mIn [3], line 1\u001b[0m\n\u001b[0;32m----> 1\u001b[0m postfunc \u001b[39m=\u001b[39m PostProcForNoise(\u001b[39m'\u001b[39;49m\u001b[39mCOR_CC.G01_CC.G10_ZZ.h5\u001b[39;49m\u001b[39m'\u001b[39;49m)\n\u001b[1;32m      2\u001b[0m st \u001b[39m=\u001b[39m postfunc\u001b[39m.\u001b[39mstack_all()\n\u001b[1;32m      3\u001b[0m st\u001b[39m.\u001b[39mplot()\n",
      "File \u001b[0;32m~/opt/miniconda3_arm/lib/python3.9/site-packages/cccn/post_func.py:25\u001b[0m, in \u001b[0;36mPostProcForNoise.__init__\u001b[0;34m(self, fname)\u001b[0m\n\u001b[1;32m     23\u001b[0m \u001b[39mself\u001b[39m\u001b[39m.\u001b[39mstla \u001b[39m=\u001b[39m stainfo[\u001b[39mself\u001b[39m\u001b[39m.\u001b[39mstname][\u001b[39m'\u001b[39m\u001b[39mlatitude\u001b[39m\u001b[39m'\u001b[39m]\n\u001b[1;32m     24\u001b[0m \u001b[39mself\u001b[39m\u001b[39m.\u001b[39mstlo \u001b[39m=\u001b[39m stainfo[\u001b[39mself\u001b[39m\u001b[39m.\u001b[39mstname][\u001b[39m'\u001b[39m\u001b[39mlongitude\u001b[39m\u001b[39m'\u001b[39m]\n\u001b[0;32m---> 25\u001b[0m \u001b[39mself\u001b[39m\u001b[39m.\u001b[39mstel \u001b[39m=\u001b[39m stainfo[\u001b[39mself\u001b[39;49m\u001b[39m.\u001b[39;49mstname][\u001b[39m'\u001b[39;49m\u001b[39melevation\u001b[39;49m\u001b[39m'\u001b[39;49m]\n",
      "\u001b[0;31mKeyError\u001b[0m: 'elevation'"
     ]
    }
   ],
   "source": [
    "postfunc = PostProcForNoise('COR_CC.G01_CC.G10_ZZ.h5')\n",
    "st = postfunc.stack_all()\n",
    "st.plot()\n",
    "postfunc.write_stack()"
   ]
  },
  {
   "cell_type": "code",
   "execution_count": null,
   "metadata": {},
   "outputs": [
    {
     "data": {
      "text/plain": [
       "         network: CC\n",
       "         station: G10\n",
       "        location: \n",
       "         channel: ZZ\n",
       "       starttime: 2008-01-10T00:00:00.000000Z\n",
       "         endtime: 2008-01-10T00:16:40.000000Z\n",
       "   sampling_rate: 1.0\n",
       "           delta: 1.0\n",
       "            npts: 1001\n",
       "           calib: 1.0\n",
       "         _format: ASDF\n",
       "      processing: ['ObsPy 1.3.1: normalize(norm=None)']\n",
       "             sac: AttribDict({'delta': 1.0, 'b': 0.0, 'e': 0.0, 'internal0': 2.0, 'nzyear': 1970, 'nzjday': 1, 'nzhour': 0, 'nzmin': 0, 'nzsec': 0, 'nzmsec': 0, 'nvhdr': 6, 'npts': 0, 'iftype': 1, 'iztype': 9, 'leven': 1, 'lpspol': 1, 'lovrok': 1, 'lcalda': 0, 'knetwk': 'CC', 'kstnm': 'G10', 'stla': 0.0, 'stlo': 0.0, 'kevnm': 'CC.G01', 'evla': 0.0, 'evlo': 0.0})\n",
       "           stack: AttribDict({'group': 'all', 'count': 2, 'type': 'linear'})"
      ]
     },
     "execution_count": 6,
     "metadata": {},
     "output_type": "execute_result"
    }
   ],
   "source": [
    "import pyasdf\n",
    "\n",
    "a=pyasdf.ASDFDataSet('COR_CC.G01_CC.G10_ZZ.h5')\n",
    "a.get_all_coordinates()"
   ]
  }
 ],
 "metadata": {
  "kernelspec": {
   "display_name": "Python 3.9.13 ('base')",
   "language": "python",
   "name": "python3"
  },
  "language_info": {
   "codemirror_mode": {
    "name": "ipython",
    "version": 3
   },
   "file_extension": ".py",
   "mimetype": "text/x-python",
   "name": "python",
   "nbconvert_exporter": "python",
   "pygments_lexer": "ipython3",
   "version": "3.9.13"
  },
  "orig_nbformat": 4,
  "vscode": {
   "interpreter": {
    "hash": "b72718f5f70d5795c626d3879ce58d039cca106f4d67559340d31db6958b967a"
   }
  }
 },
 "nbformat": 4,
 "nbformat_minor": 2
}
